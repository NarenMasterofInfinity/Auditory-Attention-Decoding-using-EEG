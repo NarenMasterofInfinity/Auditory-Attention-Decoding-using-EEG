{
 "cells": [
  {
   "cell_type": "code",
   "execution_count": 1,
   "id": "346588ab",
   "metadata": {},
   "outputs": [],
   "source": [
    "import pandas as pd"
   ]
  },
  {
   "cell_type": "code",
   "execution_count": 6,
   "id": "9fd2d725",
   "metadata": {},
   "outputs": [
    {
     "data": {
      "text/plain": [
       "('5s accuracy',\n",
       " mean    0.828947\n",
       " Name: test_acc, dtype: float64)"
      ]
     },
     "execution_count": 6,
     "metadata": {},
     "output_type": "execute_result"
    }
   ],
   "source": [
    "\"5s accuracy\" , pd.read_csv(\"outputs_aad/summary_aad.csv\")[\"test_acc\"].agg([\"mean\"])"
   ]
  },
  {
   "cell_type": "code",
   "execution_count": 10,
   "id": "80a5bc70",
   "metadata": {},
   "outputs": [
    {
     "data": {
      "text/plain": [
       "('1s accuracy',\n",
       " mean    0.897685\n",
       " Name: test_acc, dtype: float64)"
      ]
     },
     "execution_count": 10,
     "metadata": {},
     "output_type": "execute_result"
    }
   ],
   "source": [
    "\"1s accuracy\", pd.read_csv(\"outputs_aad_1s/summary_aad.csv\")[\"test_acc\"].agg([\"mean\"])"
   ]
  },
  {
   "cell_type": "code",
   "execution_count": 13,
   "id": "26f642ef",
   "metadata": {},
   "outputs": [
    {
     "data": {
      "text/plain": [
       "('0.1s accuracy',\n",
       " mean    0.990738\n",
       " Name: test_acc, dtype: float64)"
      ]
     },
     "execution_count": 13,
     "metadata": {},
     "output_type": "execute_result"
    }
   ],
   "source": [
    "\"0.1s accuracy\", pd.read_csv(\"outputs_aad_0_1s/summary_aad.csv\")[\"test_acc\"].agg([\"mean\"])"
   ]
  },
  {
   "cell_type": "code",
   "execution_count": 14,
   "id": "1ac338ed",
   "metadata": {},
   "outputs": [
    {
     "data": {
      "text/plain": [
       "('2s accuracy',\n",
       " mean    0.806333\n",
       " Name: test_acc, dtype: float64)"
      ]
     },
     "execution_count": 14,
     "metadata": {},
     "output_type": "execute_result"
    }
   ],
   "source": [
    "\"2s accuracy\", pd.read_csv(\"outputs_aad_2/summary_aad.csv\")[\"test_acc\"].agg([\"mean\"])"
   ]
  },
  {
   "cell_type": "code",
   "execution_count": null,
   "id": "57586040",
   "metadata": {},
   "outputs": [],
   "source": []
  }
 ],
 "metadata": {
  "kernelspec": {
   "display_name": "fyp",
   "language": "python",
   "name": "python3"
  },
  "language_info": {
   "codemirror_mode": {
    "name": "ipython",
    "version": 3
   },
   "file_extension": ".py",
   "mimetype": "text/x-python",
   "name": "python",
   "nbconvert_exporter": "python",
   "pygments_lexer": "ipython3",
   "version": "3.13.2"
  }
 },
 "nbformat": 4,
 "nbformat_minor": 5
}
