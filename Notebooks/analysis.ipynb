{
 "cells": [
  {
   "cell_type": "code",
   "execution_count": 4,
   "id": "2cde8888",
   "metadata": {},
   "outputs": [],
   "source": [
    "import scipy.io as sio\n",
    "import os"
   ]
  },
  {
   "cell_type": "code",
   "execution_count": 7,
   "id": "b37789d7",
   "metadata": {},
   "outputs": [],
   "source": [
    "mat_base = \"/home/naren-root/Documents/FYP/AAD/Notebooks/Dataset/DATA_preproc/\""
   ]
  },
  {
   "cell_type": "code",
   "execution_count": 8,
   "id": "90508dbf",
   "metadata": {},
   "outputs": [
    {
     "data": {
      "text/plain": [
       "'S17_data_preproc.mat'"
      ]
     },
     "execution_count": 8,
     "metadata": {},
     "output_type": "execute_result"
    }
   ],
   "source": [
    "os.listdir(mat_base)[0]"
   ]
  },
  {
   "cell_type": "code",
   "execution_count": 9,
   "id": "8d3db872",
   "metadata": {},
   "outputs": [],
   "source": [
    "mat_path = os.path.join(mat_base, \"S1_data_preproc.mat\")"
   ]
  },
  {
   "cell_type": "code",
   "execution_count": 10,
   "id": "adce7a1d",
   "metadata": {},
   "outputs": [],
   "source": [
    "mat = sio.loadmat(mat_path, squeeze_me=True, struct_as_record=False)"
   ]
  },
  {
   "cell_type": "code",
   "execution_count": 21,
   "id": "f0da4896",
   "metadata": {},
   "outputs": [
    {
     "name": "stdout",
     "output_type": "stream",
     "text": [
      "dim\n",
      "  chan\n",
      "    eeg\n",
      "    wavA\n",
      "    wavB\n",
      "  eeg\n",
      "  wavA\n",
      "  freq\n",
      "  wavB\n",
      "fsample\n",
      "  eeg\n",
      "  wavA\n",
      "  wavB\n",
      "event\n",
      "  eeg\n",
      "eeg\n",
      "cfg\n",
      "wavA\n",
      "wavB\n"
     ]
    }
   ],
   "source": [
    "def print_tree(obj, indent=0):\n",
    "    spacer = \"  \" * indent\n",
    "    if hasattr(obj, \"_fieldnames\"):\n",
    "        for key in obj._fieldnames:\n",
    "            print(f\"{spacer}{key}\")\n",
    "            sub_obj = getattr(obj, key)\n",
    "            if hasattr(sub_obj, \"_fieldnames\"):\n",
    "                print_tree(sub_obj, indent + 1)\n",
    "\n",
    "print_tree(mat[\"data\"])"
   ]
  },
  {
   "cell_type": "code",
   "execution_count": 69,
   "id": "975bc252",
   "metadata": {},
   "outputs": [
    {
     "data": {
      "text/plain": [
       "<scipy.io.matlab._mio5_params.mat_struct at 0x79cd8ec56850>"
      ]
     },
     "execution_count": 69,
     "metadata": {},
     "output_type": "execute_result"
    }
   ],
   "source": [
    "mat[\"data\"]"
   ]
  },
  {
   "cell_type": "code",
   "execution_count": null,
   "id": "e0a65cd1",
   "metadata": {},
   "outputs": [],
   "source": []
  },
  {
   "cell_type": "code",
   "execution_count": 49,
   "id": "b80d4ef0",
   "metadata": {},
   "outputs": [
    {
     "data": {
      "text/plain": [
       "((3200,), 53.333333333333336)"
      ]
     },
     "execution_count": 49,
     "metadata": {},
     "output_type": "execute_result"
    }
   ],
   "source": [
    "mat[\"data\"].wavA[0].shape, 3200/60"
   ]
  },
  {
   "cell_type": "code",
   "execution_count": 47,
   "id": "6832765c",
   "metadata": {},
   "outputs": [
    {
     "data": {
      "text/plain": [
       "(3200,)"
      ]
     },
     "execution_count": 47,
     "metadata": {},
     "output_type": "execute_result"
    }
   ],
   "source": [
    "mat[\"data\"].wavB[0].shape"
   ]
  },
  {
   "cell_type": "code",
   "execution_count": 46,
   "id": "284bded0",
   "metadata": {},
   "outputs": [
    {
     "data": {
      "text/plain": [
       "(3200, 66)"
      ]
     },
     "execution_count": 46,
     "metadata": {},
     "output_type": "execute_result"
    }
   ],
   "source": [
    "mat[\"data\"].eeg[0].shape"
   ]
  },
  {
   "cell_type": "code",
   "execution_count": null,
   "id": "473c33f9",
   "metadata": {},
   "outputs": [],
   "source": []
  },
  {
   "cell_type": "code",
   "execution_count": null,
   "id": "749ae680",
   "metadata": {},
   "outputs": [],
   "source": []
  },
  {
   "cell_type": "code",
   "execution_count": null,
   "id": "82b084a0",
   "metadata": {},
   "outputs": [],
   "source": []
  },
  {
   "cell_type": "code",
   "execution_count": null,
   "id": "c17f2080",
   "metadata": {},
   "outputs": [],
   "source": []
  },
  {
   "cell_type": "code",
   "execution_count": null,
   "id": "4378802a",
   "metadata": {},
   "outputs": [],
   "source": []
  },
  {
   "cell_type": "code",
   "execution_count": null,
   "id": "1241291e",
   "metadata": {},
   "outputs": [],
   "source": []
  }
 ],
 "metadata": {
  "kernelspec": {
   "display_name": "fyp",
   "language": "python",
   "name": "python3"
  },
  "language_info": {
   "codemirror_mode": {
    "name": "ipython",
    "version": 3
   },
   "file_extension": ".py",
   "mimetype": "text/x-python",
   "name": "python",
   "nbconvert_exporter": "python",
   "pygments_lexer": "ipython3",
   "version": "3.13.2"
  }
 },
 "nbformat": 4,
 "nbformat_minor": 5
}
